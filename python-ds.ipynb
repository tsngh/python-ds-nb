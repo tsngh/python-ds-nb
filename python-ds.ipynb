{
 "cells": [
  {
   "cell_type": "markdown",
   "metadata": {},
   "source": [
    "# Web Mining and Applied NLP (44-620)\n",
    "\n",
    "## Python Notebooks, Basics, and Data Structures\n",
    "\n",
    "### Student Name: Tesheena __[GitHub Repo](https://github.com/tsngh/python-ds-nb)__\n",
    "\n",
    "Perform the tasks described in the Markdown cells below.  When you have completed the assignment make sure your code cells have all been run (and have output beneath them) and ensure you have committed and pushed ALL of your changes to your assignment repository.\n",
    "\n",
    "Every question that requires you to write code will have a code cell underneath it; you may either write your entire solution in that cell or write it in a python file (`.py`), then import and run the appropriate code to answer the question.\n",
    "\n",
    "Do not use external modules (`math`, etc) for this assignment unless you are explicitly instructed to, though you may use built in python functions (`min`, `max`, etc) as you wish."
   ]
  },
  {
   "cell_type": "markdown",
   "metadata": {},
   "source": [
    "1. Modify the Markdown cell above to put your name after \"Student Name:\"; you will be expected to do this in all assignments presented in this format for this class."
   ]
  },
  {
   "cell_type": "markdown",
   "metadata": {},
   "source": [
    "2. Write code that divides any two numbers, stores the result in a variable, and prints the result with an appropriate label."
   ]
  },
  {
   "cell_type": "code",
   "execution_count": 1,
   "metadata": {},
   "outputs": [
    {
     "name": "stdout",
     "output_type": "stream",
     "text": [
      "The answer to 148 divided by 4 is 37.0\n"
     ]
    }
   ],
   "source": [
    "a = 148\n",
    "b= 4\n",
    "\n",
    "answer = a/b\n",
    "\n",
    "print (f\"The answer to {a} divided by {b} is {answer}\")"
   ]
  },
  {
   "cell_type": "markdown",
   "metadata": {},
   "source": [
    "3. Using loops (and potentially conditionals), write Python code that prints the factorial of each integer from 1 through 10 (which you can store in a variable if you want). The factorial of an integer is the product of all of the integers of 1 through the number. Print the result with an appropriate label."
   ]
  },
  {
   "cell_type": "code",
   "execution_count": 11,
   "metadata": {},
   "outputs": [
    {
     "name": "stdout",
     "output_type": "stream",
     "text": [
      "The factorial of 1 is: 1 \n",
      "The factorial of 2 is: 2 \n",
      "The factorial of 3 is: 6 \n",
      "The factorial of 4 is: 24 \n",
      "The factorial of 5 is: 120 \n",
      "The factorial of 6 is: 720 \n",
      "The factorial of 7 is: 5040 \n",
      "The factorial of 8 is: 40320 \n",
      "The factorial of 9 is: 362880 \n",
      "The factorial of 10 is: 3628800 \n"
     ]
    }
   ],
   "source": [
    "for i in range (1,11):\n",
    "    factorial = 1\n",
    "    for j in range(1, i + 1):\n",
    "        factorial *= j\n",
    "    print (f\"The factorial of {i} is: {factorial} \")"
   ]
  },
  {
   "cell_type": "markdown",
   "metadata": {},
   "source": [
    "4. Write a python function that takes a single parameter and calculates and returns the average (mean) of the values in the parameter (which you may assume is iterable).  Show that your function works by printing the result of calling the function on the list in the cell below."
   ]
  },
  {
   "cell_type": "code",
   "execution_count": 20,
   "metadata": {},
   "outputs": [
    {
     "name": "stdout",
     "output_type": "stream",
     "text": [
      "The average of the values in the testlist is: 0.0\n"
     ]
    }
   ],
   "source": [
    "def calculate_avg(values):\n",
    "    return sum(values)/len(values)\n",
    "\n",
    "testlist = [1,-1,2,-2,3,-3,4,-4]\n",
    "\n",
    "average = calculate_avg(testlist)\n",
    "\n",
    "print (f'The average of the values in the testlist is: {average}')"
   ]
  },
  {
   "cell_type": "markdown",
   "metadata": {},
   "source": [
    "5. Using your mean function above, write a function that calculates the variance of the list of numbers (see https://en.wikipedia.org/wiki/Variance for more information on the formula). In short:\n",
    "* subtract the mean of the elements in the list from every element in the list; store these values in a new list\n",
    "* square every element in the new list and sum the elements together\n",
    "* divide the resulting number by N (where N is the length of the original list)\n",
    "\n",
    "Show the result of calling your function in the lists in the code cell. You must use one or more list comprehensions or map/filter in your code.\n"
   ]
  },
  {
   "cell_type": "code",
   "execution_count": 22,
   "metadata": {},
   "outputs": [
    {
     "name": "stdout",
     "output_type": "stream",
     "text": [
      "The variance of list 1 is: 1.13973309\n",
      "The variance of list 2 is: 0.9257232841\n"
     ]
    }
   ],
   "source": [
    "def calculate_var(values):\n",
    "    avg = sum(values)/len(values)\n",
    "    variance = sum((x-avg)**2 for x in values) / len(values)\n",
    "    return variance\n",
    "\n",
    "list1 = [ 5.670e-1, -1.480e+0, -5.570e-1, -1.470e+0, 7.340e-1, 1.050e+0, 4.480e-1, 2.570e-1, -1.970e+0, -1.460e+0]\n",
    "list2 = [-1.780e+0, 2.640e-1, 1.160e+0, 9.080e-1, 1.780e+0, 1.080e+0, 1.050e+0, -4.630e-2, 1.520e+0, 5.350e-1]\n",
    "# the variances of both lists should be relatively close to 1 (off by less than .15)\n",
    "\n",
    "variance1 = calculate_var(list1)\n",
    "variance2 = calculate_var(list2)\n",
    "\n",
    "print(f\"The variance of list 1 is: {variance1}\")\n",
    "print(f\"The variance of list 2 is: {variance2}\")"
   ]
  },
  {
   "cell_type": "markdown",
   "metadata": {},
   "source": [
    "6. Create a list with at least 15 elements in it. Use list slicing to print the following:\n",
    "* The first 5 elements of the list\n",
    "* The last 5 elements of the list\n",
    "* The list reversed (hint, show the entire list with a stride of -1)\n",
    "* Every second element in the list\n",
    "* Every third element in the list (stride of 3)"
   ]
  },
  {
   "cell_type": "code",
   "execution_count": 25,
   "metadata": {},
   "outputs": [
    {
     "name": "stdout",
     "output_type": "stream",
     "text": [
      "The first 5 elements of the list are: [3, 6, 7, 12, 19]\n",
      "The last 5 elements of the list are: [72, 88, 100, 227, 513]\n",
      "The list reversed is: [513, 227, 100, 88, 72, 67, 45, 37, 33, 30, 29, 22, 19, 12, 7, 6, 3]\n",
      "Every second element of the list are: [3, 7, 19, 29, 33, 45, 72, 100, 513]\n",
      "Every third element of the list are: [3, 12, 29, 37, 72, 227]\n"
     ]
    }
   ],
   "source": [
    "list = [3,6,7,12,19,22,29,30,33,37,45,67,72,88,100,227,513]\n",
    "\n",
    "print(f\"The first 5 elements of the list are:\", list[:5])\n",
    "print(f\"The last 5 elements of the list are:\", list[-5:])\n",
    "print(f\"The list reversed is:\", list[::-1])\n",
    "print(f\"Every second element of the list are:\", list[::2])\n",
    "print(f\"Every third element of the list are:\", list[::3])\n",
    "\n",
    "\n",
    "\n"
   ]
  },
  {
   "cell_type": "markdown",
   "metadata": {},
   "source": [
    "7. Build a dictionary that contains the following information about this class (with appropriate names as keys):\n",
    "* The name\n",
    "* The course number\n",
    "* The semester/term in which you are taking this course\n",
    "* The number of credit hours this course counts for\n",
    "* A list of the course learning objectives\n",
    "\n",
    "The majority of this information can be found in the syllabus. Print the dictionary."
   ]
  },
  {
   "cell_type": "code",
   "execution_count": 31,
   "metadata": {},
   "outputs": [
    {
     "name": "stdout",
     "output_type": "stream",
     "text": [
      "{'course name': 'Web Mining and Applied NLP', 'course number': '44-620', 'semester': 'Spring 2024', 'credit hours': '3', 'learning objectives': ['Manage Python libraries and packages', 'Interact with hosted Version Control Systems', 'Programmatically obtain and transform data from web-based APIs and HTML pages into usable form', 'Describe steps in NLP pipelines', 'Use tools and software libraries to perform some NLP', 'and Explain results and conclusions drawn from visualized information']}\n"
     ]
    }
   ],
   "source": [
    "course_info = {\n",
    "    \"course name\":\"Web Mining and Applied NLP\",\n",
    "    \"course number\":\"44-620\",\n",
    "    \"semester\":\"Spring 2024\",\n",
    "    \"credit hours\":\"3\",\n",
    "    \"learning objectives\": [\n",
    "        \"Manage Python libraries and packages\",\n",
    "        \"Interact with hosted Version Control Systems\",\n",
    "        \"Programmatically obtain and transform data from web-based APIs and HTML pages into usable form\",\n",
    "        \"Describe steps in NLP pipelines\",\n",
    "        \"Use tools and software libraries to perform some NLP\",\n",
    "        \"and Explain results and conclusions drawn from visualized information\"\n",
    "    ]\n",
    "}\n",
    "\n",
    "print(course_info)"
   ]
  },
  {
   "cell_type": "markdown",
   "metadata": {},
   "source": [
    "8.  Given the dictionary defined in the code cell below, print the list of level 3 spells the character has."
   ]
  },
  {
   "cell_type": "code",
   "execution_count": 34,
   "metadata": {},
   "outputs": [
    {
     "name": "stdout",
     "output_type": "stream",
     "text": [
      "Level 3 spells: ['Mass Healing Word', 'Nondetection', 'Revivify', 'Feign Death', 'Speak with Dead']\n"
     ]
    }
   ],
   "source": [
    "player_character = {'name': 'Kitab',\n",
    "                   'class': [('Cleric: Knowledge', 7)],\n",
    "                   'spells': {'cantrip': ['Guidance', 'Light', 'Thaumaturgy', 'Toll the Dead', 'Word of Radiance'],\n",
    "                             'level 1': ['Command', 'Detect Magic', 'Healing Word', 'Identify', 'Sleep'],\n",
    "                             'level 2': ['Augury', 'Calm Emotions', 'Command', 'Invisibility', 'Lesser Restoration'],\n",
    "                             'level 3': ['Mass Healing Word', 'Nondetection', 'Revivify', 'Feign Death', 'Speak with Dead'],\n",
    "                             'level 4': ['Banishment', 'Confusion']}\n",
    "                   }\n",
    "print(\"Level 3 spells:\", player_character['spells']['level 3'])"
   ]
  },
  {
   "cell_type": "markdown",
   "metadata": {},
   "source": [
    "9. Write code to determine the number of unique elements in the list below.  You MUST use a set in finding your solution.  Print the number of unique values in the list with an appropriate label."
   ]
  },
  {
   "cell_type": "code",
   "execution_count": 36,
   "metadata": {},
   "outputs": [
    {
     "name": "stdout",
     "output_type": "stream",
     "text": [
      "{0, 1, 5, 6, 7, 8, 9, 10, 11, 12, 13, 15}\n",
      "The number of unique values in the list is: 12\n"
     ]
    }
   ],
   "source": [
    "values = [10, 11, 10, 8, 1, 12, 0, 1, 6, 5, 5, 13, 6, 15, 0, 0, 1, 1, 9, 7]\n",
    "unique_values = set(values)\n",
    "print(unique_values)\n",
    "list_unique_values = len(unique_values)\n",
    "print (f\"The number of unique values in the list is: {list_unique_values}\")\n"
   ]
  },
  {
   "cell_type": "markdown",
   "metadata": {},
   "source": [
    "10. Create a new Jupyter Notebook (the name of the notebook should be your S number). Add a Markdown cell that contains your name. Add a Code cell and write Python that uses loops to draw the following pattern:\n",
    "\n",
    "```\n",
    "*      *\n",
    "**    **\n",
    "***  ***\n",
    "********\n",
    "```\n",
    "Make sure to add and submit both the new notebook and the changes to this notebook for this assignment."
   ]
  }
 ],
 "metadata": {
  "kernelspec": {
   "display_name": "Python 3",
   "language": "python",
   "name": "python3"
  },
  "language_info": {
   "codemirror_mode": {
    "name": "ipython",
    "version": 3
   },
   "file_extension": ".py",
   "mimetype": "text/x-python",
   "name": "python",
   "nbconvert_exporter": "python",
   "pygments_lexer": "ipython3",
   "version": "3.11.4"
  }
 },
 "nbformat": 4,
 "nbformat_minor": 4
}
